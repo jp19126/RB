{
 "cells": [
  {
   "cell_type": "code",
   "execution_count": 1,
   "metadata": {},
   "outputs": [],
   "source": [
    "import numpy as np\n",
    "#from qutip import *\n",
    "import matplotlib.pyplot as plt\n",
    "from scipy.linalg import expm"
   ]
  },
  {
   "cell_type": "code",
   "execution_count": 2,
   "metadata": {},
   "outputs": [],
   "source": [
    "def solve_master(Hami,dm,decoop1,decoop2,decoop3,rate1,rate2,rate3):\n",
    "    down1 = decoop1\n",
    "    down2 = decoop2\n",
    "    down3 = decoop3\n",
    "    up1 = np.matrix(down1).H\n",
    "    up2 = np.matrix(down2).H\n",
    "    up3 = np.matrix(down3).H\n",
    "    temp1 = (0-1j)*(np.dot(Hami, dm) - np.dot(dm, Hami))\n",
    "    temp2 = 2*np.dot(np.dot(down1, dm), up1)-np.dot(np.dot(up1, down1), dm)-np.dot(np.dot(dm, up1), down1)\n",
    "    temp3 = 2*np.dot(np.dot(down2, dm), up2)-np.dot(np.dot(up2, down2), dm)-np.dot(np.dot(dm, up2), down2)\n",
    "    temp4 = 2*np.dot(np.dot(down3, dm), up3)-np.dot(np.dot(up3, down3), dm)-np.dot(np.dot(dm, up3), down3)\n",
    "    out =  temp1+(np.multiply(rate1, temp2)+np.multiply(rate2, temp3)+np.multiply(rate3, temp4))/2\n",
    "    return out"
   ]
  },
  {
   "cell_type": "code",
   "execution_count": 3,
   "metadata": {},
   "outputs": [],
   "source": [
    "class CliffordGate:\n",
    "    def __init__(self):\n",
    "        self.angles = [ (1.3e-5, 0, 0), \n",
    "                        (np.pi, np.pi/2, 0),\n",
    "                        (np.pi, np.pi/2, np.pi/2), \n",
    "                        (np.pi, 0, 0),\n",
    "                        (np.pi, np.pi*3/4, 0),\n",
    "                        (np.pi, np.pi/4, 0),\n",
    "                        (np.pi, np.pi/4, np.pi/2),\n",
    "                        (np.pi, np.pi*3/4, np.pi/2), \n",
    "                        (np.pi, np.pi/2, np.pi/4),\n",
    "                        (np.pi, np.pi/2, np.pi*3/4),\n",
    "                        (np.pi/2, np.pi/2, 0),\n",
    "                        (np.pi/2, np.pi/2, np.pi),\n",
    "                        (np.pi/2, np.pi/2, np.pi/2),\n",
    "                        (np.pi/2, np.pi/2, np.pi*3/2),\n",
    "                        (np.pi/2, 0, 0),\n",
    "                        (np.pi/2, np.pi, 0),\n",
    "                        (np.pi*2/3, np.arccos(-1/np.sqrt(3)), np.pi/4),\n",
    "                        (np.pi*2/3, np.arccos(1/np.sqrt(3)), -np.pi/4),\n",
    "                        (np.pi*2/3, np.arccos(1/np.sqrt(3)), np.pi*3/4),\n",
    "                        (np.pi*2/3, np.arccos(-1/np.sqrt(3)), np.pi*5/4),\n",
    "                        (np.pi*2/3, np.arccos(1/np.sqrt(3)), np.pi/4),\n",
    "                        (np.pi*2/3, np.arccos(-1/np.sqrt(3)), np.pi*3/4),\n",
    "                        (np.pi*2/3, np.arccos(-1/np.sqrt(3)), -np.pi/4), \n",
    "                        (np.pi*2/3, np.arccos(1/np.sqrt(3)), np.pi*5/4)   ]\n",
    "    \n",
    "    def getgate_angle(self, gamma, theta, phi):\n",
    "        self.target = np.array([[np.cos(gamma/2)+(0+1j)*np.sin(gamma/2)*np.cos(theta), 0, (0-1j)*np.sin(gamma/2)*np.sin(theta)*np.exp((0-1j)*phi)],\n",
    "                                [0, 1, 0],\n",
    "                                [(0-1j)*np.sin(gamma/2)*np.sin(theta)*np.exp((0+1j)*phi), 0, np.cos(gamma/2)-(0+1j)*np.sin(gamma/2)*np.cos(theta)]])  \n",
    "        \n",
    "    def getgate(self, n):\n",
    "        self.gamma = self.angles[n-1][0]\n",
    "        self.theta = self.angles[n-1][1]\n",
    "        self.phi = self.angles[n-1][2]\n",
    "        self.target = np.array([[np.cos(self.gamma/2)+(0+1j)*np.sin(self.gamma/2)*np.cos(self.theta), 0, (0-1j)*np.sin(self.gamma/2)*np.sin(self.theta)*np.exp((0-1j)*self.phi)],\n",
    "                                [0, 1, 0],\n",
    "                                [(0-1j)*np.sin(self.gamma/2)*np.sin(self.theta)*np.exp((0+1j)*self.phi), 0, np.cos(self.gamma/2)-(0+1j)*np.sin(self.gamma/2)*np.cos(self.theta)]])  \n",
    "    \n",
    "    def randtarget(self):\n",
    "        # Generalize a random integer in the range of 1 to 24\n",
    "        randnum = np.random.randint(low=1, high=24) # high will be 24 in the later version\n",
    "        # Pick out the corresponding value of angles\n",
    "        self.gamma = self.angles[randnum-1][0]\n",
    "        self.theta = self.angles[randnum-1][1]\n",
    "        self.phi = self.angles[randnum-1][2]\n",
    "        Miu = (2*np.pi-2*self.gamma)/(2*np.pi)\n",
    "        self.time = 2*np.pi/v1*np.sqrt(1-Miu**2)+10e-6\n",
    "        self.eta=-2*np.pi*Miu/self.time\n",
    "        # Utarget1=[cos(ThetaA1) 0 sin(ThetaA1)*exp(-1i*Fei1);0 1 0;sin(ThetaA1)*exp(1i*Fei1) 0 -cos(ThetaA1)];\n",
    "        # Factor  np.exp((0-1j)*(self.gamma/2))* omitted\n",
    "        self.target = np.array([[np.cos(self.gamma/2)+(0+1j)*np.sin(self.gamma/2)*np.cos(self.theta), 0, (0-1j)*np.sin(self.gamma/2)*np.sin(self.theta)*np.exp((0-1j)*self.phi)],\n",
    "                                [0, 1, 0],\n",
    "                                [(0-1j)*np.sin(self.gamma/2)*np.sin(self.theta)*np.exp((0+1j)*self.phi), 0, np.cos(self.gamma/2)-(0+1j)*np.sin(self.gamma/2)*np.cos(self.theta)]])  "
   ]
  },
  {
   "cell_type": "code",
   "execution_count": 4,
   "metadata": {},
   "outputs": [],
   "source": [
    "def get_para(U):\n",
    "    temp1 = U[0,0]\n",
    "    temp9 = U[2,2]\n",
    "    temp3 = U[0,2]\n",
    "    temp7 = U[2,0]\n",
    "    def UI(gamma, theta, phi):\n",
    "        UII = np.array([[np.cos(gamma/2)+(0+1j)*np.sin(gamma/2)*np.cos(theta), 0, (0-1j)*np.sin(gamma/2)*np.sin(theta)*np.exp((0-1j)*phi)],\n",
    "                       [0, 1, 0],\n",
    "                       [(0-1j)*np.sin(gamma/2)*np.sin(theta)*np.exp((0+1j)*phi), 0, np.cos(gamma/2)-(0+1j)*np.sin(gamma/2)*np.cos(theta)]])  \n",
    "        return UII\n",
    "    gammaq = np.real(2*np.arccos((temp1+temp9)/2))\n",
    "    if gammaq == 0:\n",
    "        thetaq =0\n",
    "    else:\n",
    "        thetaq = np.real(np.arccos(((temp1-temp9)/2)/((0+1j)*np.sin(gammaq/2))))\n",
    "    if thetaq==0 or gammaq==0:\n",
    "        phiiq = 0\n",
    "    else:\n",
    "        phiiq = -np.arcsin(np.real(temp3)/np.sin(gammaq/2)/np.sin(thetaq))\n",
    "        if np.allclose(UI(gammaq,thetaq,phiiq), U) == False:\n",
    "            phiiq = np.pi - phiiq\n",
    "    Miu = (2*np.pi-2*gammaq)/(2*np.pi)\n",
    "    time = 2*np.pi/v1*np.sqrt(1-Miu**2)\n",
    "    eta = -2*np.pi*Miu/time\n",
    "    return gammaq, thetaq, phiiq, time, eta"
   ]
  },
  {
   "cell_type": "code",
   "execution_count": 5,
   "metadata": {},
   "outputs": [],
   "source": [
    "identy = np.identity(3)\n",
    "zerostate = [[1], [0], [0]]\n",
    "estate = [[0], [1], [0]]\n",
    "onestate = [[0], [0], [1]]\n",
    "Psi = np.identity(3)\n",
    "# Define the operator\n",
    "A0e = np.dot(zerostate, np.transpose(estate))\n",
    "Ae0 = np.dot(estate, np.transpose(zerostate))\n",
    "Ae1 = np.dot(estate, np.transpose(onestate))\n",
    "A1e = np.dot(onestate, np.transpose(estate))\n",
    "A00 = np.dot(zerostate, np.transpose(zerostate))\n",
    "Aee = np.dot(estate, np.transpose(estate))\n",
    "A11 = np.dot(onestate, np.transpose(onestate))\n",
    "# Define the decay operator\n",
    "Gamma0 = A0e+A1e\n",
    "Gamma1 = 2*Aee-A00-A11\n",
    "Gamma2 = np.identity(3)\n",
    "# Decay value\n",
    "kappa0 = 2*np.pi*4/1000; # Cavity decay\n",
    "kappa1 = 2*np.pi*4/1000; # Effective atom decay 16ns\n",
    "kappa2 = 0;\n",
    "# Area of pulse\n",
    "v1=80.7954"
   ]
  },
  {
   "cell_type": "code",
   "execution_count": 6,
   "metadata": {},
   "outputs": [],
   "source": [
    "# Initial states\n",
    "intialstate = zerostate\n",
    "#intialstate =  np.multiply(1/np.sqrt(2), np.add(zerostate, onestate))\n",
    "initialdm = np.matmul(intialstate, np.matrix(intialstate).getH())\n",
    "dm1 = initialdm\n",
    "finalatomstate1 = zerostate\n",
    "fidm1 = np.matmul(finalatomstate1, np.matrix(finalatomstate1).H)\n",
    "finalatomstate2 = estate\n",
    "fidm2 = np.matmul(finalatomstate2, np.matrix(finalatomstate2).H)\n",
    "finalatomstate3 = onestate\n",
    "fidm3 = np.matmul(finalatomstate3, np.matrix(finalatomstate3).H)\n",
    "\n",
    "# Max Rabi frequency\n",
    "# Dots drawn per period每一个周期画的点数\n",
    "dotsPerPeriod = 1000;\n",
    "numberOfPeriod = 1;\n",
    "# Define time and setp\n",
    "#U = np.identity(3)\n",
    "# Define time and setp\n",
    "#timestep = tao/dotsPerPeriod;  # Draw dotsPerPeriod dots per period\n",
    "#time = (m+1)*numberOfPeriod*dotsPerPeriod;  # Draw numberOfPeriod periods"
   ]
  },
  {
   "cell_type": "code",
   "execution_count": 7,
   "metadata": {},
   "outputs": [],
   "source": [
    "m = 10\n",
    "Clifford = CliffordGate()\n",
    "U_final = np.identity(3)"
   ]
  },
  {
   "cell_type": "code",
   "execution_count": 8,
   "metadata": {},
   "outputs": [],
   "source": [
    "for k in range(1, m+2, 1):\n",
    "    if k == m+1:\n",
    "        # Deal with the last gate - the recover gate\n",
    "        U_recover = np.matrix(U_final).H\n",
    "        gamma, theta, phi, time, eta = get_para(U_recover)\n",
    "        #print(k, \":\", gamma, theta, phi, time, eta, \"\\n\")\n",
    "    else:   \n",
    "        Clifford.randtarget()\n",
    "        U = Clifford.target\n",
    "        gamma = Clifford.gamma\n",
    "        theta = Clifford.theta\n",
    "        phi = Clifford.phi\n",
    "        eta = Clifford.eta\n",
    "        time = Clifford.time\n",
    "        U_final = np.matmul(U, U_final)\n",
    "        #print(k, \":\", gamma, theta, phi, time, eta, \"\\n\", U_final, \"\\n\")\n",
    "    timestep = time/dotsPerPeriod\n",
    "    for n in range(1, dotsPerPeriod+1, 1):        \n",
    "        t = (n-1)*timestep   \n",
    "        PHI = eta*t\n",
    "        Omega = v1*np.exp((0-1j)*PHI)\n",
    "        OmegaP = Omega*np.sin(theta/2)\n",
    "        OmegaS = Omega*np.cos(theta/2)*np.exp((0+1j)*phi)\n",
    "        Hamiltonian1 = (OmegaP*A0e+np.conj(OmegaP)*Ae0+OmegaS*A1e+np.conj(OmegaS)*Ae1)/2\n",
    "        dt = timestep\n",
    "        #U = np.matmul(expm((0-1j)*Hamiltonian1*dt), U)\n",
    "        Psi = np.matmul(expm((0-1j)*Hamiltonian1*dt), Psi)\n",
    "        k1 = solve_master(Hamiltonian1,dm1,Gamma0,Gamma1,Gamma2,kappa0,kappa1,kappa2)\n",
    "        k2 = solve_master(Hamiltonian1,dm1+0.5*timestep*k1,Gamma0,Gamma1,Gamma2,kappa0,kappa1,kappa2)\n",
    "        k3 = solve_master(Hamiltonian1,dm1+0.5*timestep*k2,Gamma0,Gamma1,Gamma2,kappa0,kappa1,kappa2)\n",
    "        k4 = solve_master(Hamiltonian1,dm1+timestep*k3,Gamma0,Gamma1,Gamma2,kappa0,kappa1,kappa2)\n",
    "        dm1 = dm1+(timestep/6)*(k1+2*k2+2*k3+k4)\n",
    "        dm1 = 0.5*(dm1+np.matrix(dm1).H)\n",
    "        dm1 = dm1/(np.trace(dm1))\n",
    "        rho = dm1\n",
    "        \n",
    "fidelity = np.real(np.trace(np.matmul(rho, fidm1)))"
   ]
  },
  {
   "cell_type": "code",
   "execution_count": 9,
   "metadata": {},
   "outputs": [
    {
     "data": {
      "text/plain": [
       "0.979823581002417"
      ]
     },
     "execution_count": 9,
     "metadata": {},
     "output_type": "execute_result"
    }
   ],
   "source": [
    "fidelity"
   ]
  },
  {
   "cell_type": "code",
   "execution_count": null,
   "metadata": {},
   "outputs": [],
   "source": []
  }
 ],
 "metadata": {
  "@webio": {
   "lastCommId": null,
   "lastKernelId": null
  },
  "kernelspec": {
   "display_name": "Python 3",
   "language": "python",
   "name": "python3"
  },
  "language_info": {
   "codemirror_mode": {
    "name": "ipython",
    "version": 3
   },
   "file_extension": ".py",
   "mimetype": "text/x-python",
   "name": "python",
   "nbconvert_exporter": "python",
   "pygments_lexer": "ipython3",
   "version": "3.7.1"
  }
 },
 "nbformat": 4,
 "nbformat_minor": 2
}
