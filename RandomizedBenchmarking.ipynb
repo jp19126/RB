{
 "cells": [
  {
   "cell_type": "code",
   "execution_count": 1,
   "metadata": {},
   "outputs": [],
   "source": [
    "import numpy as np\n",
    "from qutip import *\n",
    "import matplotlib.pyplot as plt\n",
    "from scipy.linalg import expm"
   ]
  },
  {
   "cell_type": "code",
   "execution_count": 2,
   "metadata": {},
   "outputs": [],
   "source": [
    "def solve_master(Hami,dm,decoop1,decoop2,decoop3,rate1,rate2,rate3):\n",
    "    down1 = decoop1\n",
    "    down2 = decoop2\n",
    "    down3 = decoop3\n",
    "    up1 = np.matrix(down1).getH()\n",
    "    up2 = np.matrix(down2).getH()\n",
    "    up3 = np.matrix(down3).getH()\n",
    "    temp1 = (0-1j)*(np.dot(Hami, dm) - np.dot(dm, Hami))\n",
    "    temp2 = 2*np.dot(np.dot(down1, dm), up1) - np.dot(np.dot(up1, down1), dm) -np.dot(np.dot(dm, up1), down1)\n",
    "    temp3 = 2*np.dot(np.dot(down2, dm), up2) - np.dot(np.dot(up2, down2), dm) -np.dot(np.dot(dm, up2), down2)\n",
    "    temp4 = 2*np.dot(np.dot(down3, dm), up3) - np.dot(np.dot(up3, down3), dm) -np.dot(np.dot(dm, up3), down3)\n",
    "    out =  temp1 + (np.multiply(rate1, temp2) + np.multiply(rate2, temp3) + np.multiply(rate3, temp4))/2\n",
    "    return out"
   ]
  },
  {
   "cell_type": "code",
   "execution_count": 3,
   "metadata": {},
   "outputs": [],
   "source": [
    "class CliffordGate:\n",
    "    def __init__(self):\n",
    "        self.angles = [ (1.3e-5, 0, 0), \n",
    "                        (np.pi, np.pi/2, 0),\n",
    "                        (np.pi, np.pi/2, np.pi/2), \n",
    "                        (np.pi, 0, 0),\n",
    "                        (np.pi, np.pi*3/4, 0),\n",
    "                        (np.pi, np.pi/4, 0),\n",
    "                        (np.pi, np.pi/4, np.pi/2),\n",
    "                        (np.pi, np.pi*3/4, np.pi/2), \n",
    "                        (np.pi, np.pi/2, np.pi/4),\n",
    "                        (np.pi, np.pi/2, np.pi*3/4),\n",
    "                        (np.pi/2, np.pi/2, 0),\n",
    "                        (np.pi/2, np.pi/2, np.pi),\n",
    "                        (np.pi/2, np.pi/2, np.pi/2),\n",
    "                        (np.pi/2, np.pi/2, np.pi*3/2),\n",
    "                        (np.pi/2, 0, 0),\n",
    "                        (np.pi/2, np.pi, 0),\n",
    "                        (np.pi*2/3, np.arccos(-1/np.sqrt(3)), np.pi/4),\n",
    "                        (np.pi*2/3, np.arccos(1/np.sqrt(3)), -np.pi/4),\n",
    "                        (np.pi*2/3, np.arccos(1/np.sqrt(3)), np.pi*3/4),\n",
    "                        (np.pi*2/3, np.arccos(-1/np.sqrt(3)), np.pi*5/4),\n",
    "                        (np.pi*2/3, np.arccos(1/np.sqrt(3)), np.pi/4),\n",
    "                        (np.pi*2/3, np.arccos(-1/np.sqrt(3)), np.pi*3/4),\n",
    "                        (np.pi*2/3, np.arccos(-1/np.sqrt(3)), -np.pi/4), \n",
    "                        (np.pi*2/3, np.arccos(1/np.sqrt(3)), np.pi*5/4)   ]\n",
    "        \n",
    "    def U_randtarget(self):\n",
    "        # Generalize a random integer in the range of 1 to 24\n",
    "        randnum = np.random.randint(low=1, high=8) # high will be 24 in the later version\n",
    "        # Pick out the corresponding value of angles\n",
    "        self.gamma = self.angles[randnum-1][0]\n",
    "        self.theta = self.angles[randnum-1][1]\n",
    "        self.phi = self.angles[randnum-1][2]        \n",
    "        # Utarget1=[cos(ThetaA1) 0 sin(ThetaA1)*exp(-1i*Fei1);0 1 0;sin(ThetaA1)*exp(1i*Fei1) 0 -cos(ThetaA1)];\n",
    "        # Factor  np.exp((0-1j)*(self.gamma/2))* omitted\n",
    "        self.target = np.array([[np.cos(self.gamma/2)+(0+1j)*np.sin(self.gamma/2)*np.cos(self.theta), 0, (0-1j)*np.sin(self.gamma/2)*np.sin(self.theta)*np.exp((0-1j)*self.phi)],\n",
    "                                                         [0, 1, 0],\n",
    "                                                         [(0-1j)*np.sin(self.gamma/2)*np.sin(self.theta)*np.exp((0+1j)*self.phi), 0, np.cos(self.gamma/2)-(0+1j)*np.sin(self.gamma/2)*np.cos(self.theta)]])  "
   ]
  },
  {
   "cell_type": "code",
   "execution_count": 4,
   "metadata": {},
   "outputs": [],
   "source": [
    "identy = np.identity(3)\n",
    "zerostate = [[1], [0], [0]]\n",
    "estate = [[0], [1], [0]]\n",
    "onestate = [[0], [0], [1]]\n",
    "Psi = np.identity(3)\n",
    "# Define the operator\n",
    "A0e = np.dot(zerostate, np.transpose(estate))\n",
    "Ae0 = np.dot(estate, np.transpose(zerostate))\n",
    "Ae1 = np.dot(estate, np.transpose(onestate))\n",
    "A1e = np.dot(onestate, np.transpose(estate))\n",
    "A00 = np.dot(zerostate, np.transpose(zerostate))\n",
    "Aee = np.dot(estate, np.transpose(estate))\n",
    "A11 = np.dot(onestate, np.transpose(onestate))\n",
    "# Define the decay operator\n",
    "Gamma0 = A0e+A1e\n",
    "Gamma1 = 2*Aee-A00-A11\n",
    "Gamma2 = np.zeros((3,3))\n",
    "# Define the H values\n",
    "omega00 = 2*np.pi*10\n",
    "omega0 = omega00\n",
    "# Time\n",
    "T = 0.01;\n",
    "tao = 2*T;\n",
    "# Decay value\n",
    "kappa0 = 2*np.pi*10/1000; # Cavity decay\n",
    "kappa1 = 2*np.pi*10/1000; # Effective atom decay 16ns\n",
    "kappa2 = 0;"
   ]
  },
  {
   "cell_type": "code",
   "execution_count": 5,
   "metadata": {},
   "outputs": [],
   "source": [
    "m = 20\n",
    "U_target = np.identity(3)\n",
    "Ug = CliffordGate()\n",
    "phi = np.zeros(m)\n",
    "theta = np.zeros(m)\n",
    "for i in range(1, m+1, 1):\n",
    "    Ug.U_randtarget()\n",
    "    phi[i-1] = Ug.phi\n",
    "    theta[i-1] = Ug.theta\n",
    "    U_target = np.matmul(Ug.target, U_target)    "
   ]
  },
  {
   "cell_type": "code",
   "execution_count": 6,
   "metadata": {},
   "outputs": [],
   "source": [
    "# Initial states\n",
    "intialstate = zerostate\n",
    "initialdm = np.matmul(intialstate, np.matrix(intialstate).getH())\n",
    "dm1 = initialdm\n",
    "finalatomstate1 = zerostate\n",
    "fidm1 = np.matmul(finalatomstate1, np.matrix(finalatomstate1).getH())\n",
    "finalatomstate2 = estate\n",
    "fidm2 = np.matmul(finalatomstate2, np.matrix(finalatomstate2).getH())\n",
    "finalatomstate3 = onestate\n",
    "fidm3 = np.matmul(finalatomstate3, np.matrix(finalatomstate3).getH())\n",
    "finalatomstate4 = np.matmul(U_target, intialstate)\n",
    "fidm4 = np.matmul(finalatomstate4, np.matrix(finalatomstate4).getH())\n",
    "# Max Rabi frequency\n",
    "# Dots drawn per period每一个周期画的点数\n",
    "dotsPerPeriod = 1000;\n",
    "numberOfPeriod = 1;\n",
    "# Define time and setp\n",
    "U = np.identity(3)\n",
    "# Define time and setp\n",
    "timestep = tao/dotsPerPeriod;  # Draw dotsPerPeriod dots per period\n",
    "time = m*numberOfPeriod*dotsPerPeriod;  # Draw numberOfPeriod periods"
   ]
  },
  {
   "cell_type": "code",
   "execution_count": 7,
   "metadata": {},
   "outputs": [],
   "source": [
    "# Record all states in 10000 states\n",
    "f0 = np.zeros(time)\n",
    "f1 = np.zeros(time)\n",
    "f2 = np.zeros(time)\n",
    "f3 = np.zeros(time)\n",
    "for n in range(1, time+1, 1):\n",
    "    t = (n-1)*timestep\n",
    "    PHI = phi[0]*((0<=t)&(t<=tao))+phi[1]*((tao<t)&(t<=2*tao))+phi[2]*((2*tao<=t)&(t<=3*tao))+phi[3]*((3*tao<t)&(t<=4*tao))+phi[4]*((4*tao<=t)&(t<=5*tao))+phi[5]*((5*tao<t)&(t<=6*tao))+phi[6]*((6*tao<=t)&(t<=7*tao))+phi[7]*((7*tao<t)&(t<=8*tao))+phi[8]*((8*tao<t)&(t<=9*tao))+phi[9]*((9*tao<t)&(t<=10*tao))+phi[10]*((10*tao<=t)&(t<=11*tao))+phi[11]*((11*tao<t)&(t<=12*tao))+phi[12]*((12*tao<=t)&(t<=13*tao))+phi[13]*((13*tao<t)&(t<=14*tao))+phi[14]*((14*tao<=t)&(t<=15*tao))+phi[15]*((15*tao<t)&(t<=16*tao))+phi[16]*((16*tao<=t)&(t<=17*tao))+phi[17]*((17*tao<t)&(t<=18*tao))+phi[18]*((18*tao<t)&(t<=19*tao))+phi[19]*((19*tao<t)&(t<=20*tao))\n",
    "    THETA = theta[0]*((0<=t)&(t<=tao))+theta[1]*((tao<t)&(t<=2*tao))+theta[2]*((2*tao<=t)&(t<=3*tao))+theta[3]*((3*tao<t)&(t<=4*tao))+theta[4]*((4*tao<=t)&(t<=5*tao))+theta[5]*((5*tao<t)&(t<=6*tao))+theta[6]*((6*tao<=t)&(t<=7*tao))+theta[7]*((7*tao<t)&(t<=8*tao))+theta[8]*((8*tao<t)&(t<=9*tao))+theta[9]*((9*tao<t)&(t<=10*tao))+theta[10]*((10*tao<=t)&(t<=11*tao))+theta[11]*((11*tao<t)&(t<=12*tao))+theta[12]*((12*tao<=t)&(t<=13*tao))+theta[13]*((13*tao<t)&(t<=14*tao))+theta[14]*((14*tao<=t)&(t<=15*tao))+theta[15]*((15*tao<t)&(t<=16*tao))+theta[16]*((16*tao<=t)&(t<=17*tao))+theta[17]*((17*tao<t)&(t<=18*tao))+theta[18]*((18*tao<t)&(t<=19*tao))+theta[19]*((19*tao<t)&(t<=20*tao))\n",
    "    OmegaR = np.pi*2/tao\n",
    "    OmegaP = np.sin(THETA/2)*OmegaR*1.0\n",
    "    OmegaS = -np.cos(THETA/2)*OmegaR*np.exp((0+1j)*PHI)\n",
    "    Hamiltonian1 = (OmegaP*A0e+np.conj(OmegaP)*Ae0+OmegaS*A1e+np.conj(OmegaS)*Ae1)/2\n",
    "    dt = timestep;\n",
    "    U = np.matmul(expm((0-1j)*Hamiltonian1*dt), U)\n",
    "    Psi = np.matmul(expm((0-1j)*Hamiltonian1*dt), Psi)\n",
    "    k1 = solve_master(Hamiltonian1,dm1,Gamma0,Gamma1,Gamma2,kappa0,kappa1,kappa2);\n",
    "    k2 = solve_master(Hamiltonian1,dm1+0.5*timestep*k1,Gamma0,Gamma1,Gamma2,kappa0,kappa1,kappa2);\n",
    "    k3 = solve_master(Hamiltonian1,dm1+0.5*timestep*k2,Gamma0,Gamma1,Gamma2,kappa0,kappa1,kappa2);\n",
    "    k4 = solve_master(Hamiltonian1,dm1+timestep*k3,Gamma0,Gamma1,Gamma2,kappa0,kappa1,kappa2);\n",
    "    dm1 = dm1+(timestep/6)*(k1+2*k2+2*k3+k4);\n",
    "    dm1 = 0.5*(dm1+np.matrix(dm1).getH());\n",
    "    dm1 = dm1/(np.trace(dm1));\n",
    "    rho = dm1;\n",
    "    f0[n-1] = np.real(np.trace(np.matmul(rho, fidm1)))\n",
    "    f1[n-1] = np.real(np.trace(np.matmul(rho, fidm2)))\n",
    "    f2[n-1] = np.real(np.trace(np.matmul(rho, fidm3)))\n",
    "    f3[n-1] = np.real(np.trace(np.matmul(rho, fidm4)))"
   ]
  },
  {
   "cell_type": "code",
   "execution_count": 8,
   "metadata": {},
   "outputs": [
    {
     "data": {
      "image/png": "[encoded data removed]",
      "text/plain": [
       "<Figure size 432x288 with 1 Axes>"
      ]
     },
     "metadata": {
      "needs_background": "light"
     },
     "output_type": "display_data"
    }
   ],
   "source": [
    "n = np.arange(1, time+1)\n",
    "v = 1*n/dotsPerPeriod*tao\n",
    "plt.plot(v, f0, color='b', linewidth=2, label='|0>')\n",
    "plt.plot(v, f1, color='g', linewidth=2, label='|e>')\n",
    "plt.plot(v, f2, color='r', linestyle='dashed', linewidth=2, label='|1>')\n",
    "plt.plot(v, f3, color='k', linewidth=2, label='Fidelity')\n",
    "plt.axis([0.0, 0.02, 0, 1])\n",
    "plt.xlabel('t/T')\n",
    "plt.ylabel('Population')\n",
    "plt.legend(loc=\"upper right\", frameon=True)\n",
    "#set(gca,'FontSize',14)\n",
    "plt.show()"
   ]
  },
  {
   "cell_type": "code",
   "execution_count": 9,
   "metadata": {},
   "outputs": [
    {
     "data": {
      "text/plain": [
       "array([0.99999855, 0.99999422, 0.99998699, ..., 0.48701011, 0.48702173,\n",
       "       0.48702873])"
      ]
     },
     "execution_count": 9,
     "metadata": {},
     "output_type": "execute_result"
    }
   ],
   "source": [
    "f0"
   ]
  },
  {
   "cell_type": "code",
   "execution_count": null,
   "metadata": {},
   "outputs": [],
   "source": []
  }
 ],
 "metadata": {
  "kernelspec": {
   "display_name": "Python 3",
   "language": "python",
   "name": "python3"
  },
  "language_info": {
   "codemirror_mode": {
    "name": "ipython",
    "version": 3
   },
   "file_extension": ".py",
   "mimetype": "text/x-python",
   "name": "python",
   "nbconvert_exporter": "python",
   "pygments_lexer": "ipython3",
   "version": "3.7.1"
  }
 },
 "nbformat": 4,
 "nbformat_minor": 2
}
